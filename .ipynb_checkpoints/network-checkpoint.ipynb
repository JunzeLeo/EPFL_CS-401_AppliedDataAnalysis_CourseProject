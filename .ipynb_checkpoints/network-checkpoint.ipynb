{
 "cells": [
  {
   "cell_type": "markdown",
   "metadata": {},
   "source": [
    "# Secrets inside Clinton's email"
   ]
  },
  {
   "cell_type": "markdown",
   "metadata": {},
   "source": [
    "## Abstract\n",
    "In 2015, Hillary Clinton has been embroiled in controversy over the use of personal email accounts on non-government servers during her time as the United States Secretary of State. Over 2000 confidential emails were leaked, some of them are even classified as “Top Secret”. \n",
    "\n",
    "In this project we will look at the politic, security and economic aspects through the 7945 leaked emails redacted and published by the State Department and cleaned by Kaggle. We also want to analyze the personal social network of Hillary Clinton and the top topics they discussed.\n",
    "\n",
    "As a superpower, the United States has a great impact on the world’s stability, and their position and attitude will strongly influence the international affairs. We want to figure out the countries mainly mentioned, the problems concerned and conclude the impact they made on the international affairs throughout the analysis of these emails."
   ]
  },
  {
   "cell_type": "markdown",
   "metadata": {},
   "source": [
    "The dataset can be found on [Kaggle](https://www.kaggle.com/kaggle/hillary-clinton-emails)."
   ]
  },
  {
   "cell_type": "markdown",
   "metadata": {},
   "source": [
    "## Milestone 2\n",
    "**Tasks for milestone 2**\n",
    "* Data wrangling: clean and deal with unvalid or missing data; combine data files for useful information\n",
    "* Construct a countries occurence list\n",
    "* Identify key words related to international affairs in the body text\n",
    "* Find the communication frequency between Hillary and the others\n",
    "* Personal social network creation and analysis: use the communication frequency to create a personal social network of Hillary and analyze the network structure"
   ]
  },
  {
   "cell_type": "markdown",
   "metadata": {},
   "source": [
    "---"
   ]
  },
  {
   "cell_type": "markdown",
   "metadata": {},
   "source": [
    "## Data wrangling\n",
    "### Clean and deal with unuseful data."
   ]
  },
  {
   "cell_type": "code",
   "execution_count": 152,
   "metadata": {},
   "outputs": [],
   "source": [
    "import numpy as np\n",
    "import pandas as pd\n",
    "import string\n",
    "import re\n",
    "import matplotlib.pyplot as plt\n",
    "from collections import Counter\n",
    "pd.options.mode.chained_assignment = None  # default='warn', Mutes warnings when copying a slice from a DataFrame."
   ]
  },
  {
   "cell_type": "code",
   "execution_count": 2,
   "metadata": {},
   "outputs": [],
   "source": [
    "data_folder = './hillary-clinton-emails/'"
   ]
  },
  {
   "cell_type": "code",
   "execution_count": 287,
   "metadata": {},
   "outputs": [],
   "source": [
    "# load data and parse time to timestamp\n",
    "emails_raw = pd.read_csv(data_folder + 'Emails.csv', parse_dates=['MetadataDateSent', 'MetadataDateReleased', 'ExtractedDateSent', 'ExtractedDateReleased'])"
   ]
  },
  {
   "cell_type": "markdown",
   "metadata": {},
   "source": [
    "Some features in the data, for example `DocNumber`, are not of our concern. They are information of the release of the emails but not the information that the email itself tells. For this reason, we extract only useful features from the raw data."
   ]
  },
  {
   "cell_type": "code",
   "execution_count": 137,
   "metadata": {},
   "outputs": [],
   "source": [
    "# extract useful information only\n",
    "emails = emails_raw[['Id', \n",
    "                    'MetadataSubject',\n",
    "                    'MetadataTo',\n",
    "                    'MetadataFrom',\n",
    "                    'SenderPersonId',\n",
    "                    'MetadataDateSent',\n",
    "                    'ExtractedSubject',\n",
    "                    'ExtractedTo',\n",
    "                    'ExtractedFrom',\n",
    "                    'ExtractedCc',\n",
    "                    'ExtractedReleaseInPartOrFull',\n",
    "                    'ExtractedBodyText']]"
   ]
  },
  {
   "cell_type": "markdown",
   "metadata": {},
   "source": [
    "We extract the `RawText` from the raw data explicitly because it is very large comparing to the other features. We will use this feature to mesure the textual information containing in the email, for example the countries mentioned ot other key words."
   ]
  },
  {
   "cell_type": "code",
   "execution_count": 66,
   "metadata": {},
   "outputs": [],
   "source": [
    "emails_rawText = emails_raw[['Id', 'RawText']]"
   ]
  },
  {
   "cell_type": "markdown",
   "metadata": {},
   "source": [
    "### Convert involved alias to the PersonId\n",
    "Information on sender and receiver in the `Emails.csv` is alias. On person can have multiple alias, so it is not easy for us to make analysis. We thus convert all involved aliases to the personId by using `Aliases.csv`."
   ]
  },
  {
   "cell_type": "code",
   "execution_count": 218,
   "metadata": {},
   "outputs": [],
   "source": [
    "# Load data of alias\n",
    "alias = pd.read_csv(data_folder + 'Aliases.csv')\n",
    "persons = pd.read_csv(data_folder + 'Persons.csv')"
   ]
  },
  {
   "cell_type": "code",
   "execution_count": 139,
   "metadata": {},
   "outputs": [],
   "source": [
    "# rearrange strings to a basic form\n",
    "def manage_str(s):\n",
    "    s = re.sub(r'\\<.*', '', s)\n",
    "    s = re.sub(r'\\(.*\\)', '', s)\n",
    "    return s.lower()\\\n",
    "            .replace(',', '').replace('-', '').replace(' ', '').replace(\"'\", '').replace('‘', '')\\\n",
    "            .replace('`', '').replace('°', '').replace('\"', '').replace('•', '').replace('(', '')\\\n",
    "            .replace(')', '')"
   ]
  },
  {
   "cell_type": "code",
   "execution_count": 141,
   "metadata": {},
   "outputs": [],
   "source": [
    "# create a dictionary of alias and personId\n",
    "alias_dict = dict(zip(alias.Alias.apply(manage_str), alias.PersonId))"
   ]
  },
  {
   "cell_type": "code",
   "execution_count": 142,
   "metadata": {},
   "outputs": [],
   "source": [
    "# convert alias to personId\n",
    "def alias2id(alias):\n",
    "    aliases = str(alias).split(';')\n",
    "    ids = []\n",
    "    for x in aliases:\n",
    "        x = manage_str(x)\n",
    "        if x in alias_dict.keys():\n",
    "            ids.append(alias_dict[x])\n",
    "    return ids"
   ]
  },
  {
   "cell_type": "code",
   "execution_count": 143,
   "metadata": {
    "scrolled": true
   },
   "outputs": [],
   "source": [
    "# Convert from alias to personId for five features related to people\n",
    "emails.MetadataTo = emails.MetadataTo.apply(alias2id)\n",
    "emails.MetadataFrom = emails.MetadataFrom.apply(alias2id)\n",
    "emails.ExtractedTo = emails.ExtractedTo.apply(alias2id)\n",
    "emails.ExtractedFrom = emails.ExtractedFrom.apply(alias2id)\n",
    "emails.ExtractedCc = emails.ExtractedCc.apply(alias2id)"
   ]
  },
  {
   "cell_type": "markdown",
   "metadata": {},
   "source": [
    "# ！！！！！！！！！！！！！！不确定到底做什么了\n",
    "# 先搞清楚metadata和extract的区别"
   ]
  },
  {
   "cell_type": "markdown",
   "metadata": {},
   "source": [
    "### Find occurency for From and To features"
   ]
  },
  {
   "cell_type": "code",
   "execution_count": 261,
   "metadata": {},
   "outputs": [],
   "source": [
    "email_senders = []\n",
    "for i in emails.MetadataTo.values:\n",
    "    for j in i:\n",
    "        email_senders.append(j)"
   ]
  },
  {
   "cell_type": "code",
   "execution_count": 262,
   "metadata": {},
   "outputs": [],
   "source": [
    "dict_person_count = dict(Counter(email_senders))"
   ]
  },
  {
   "cell_type": "code",
   "execution_count": 263,
   "metadata": {},
   "outputs": [],
   "source": [
    "personId = [ k for k in dict_person_count ]\n",
    "occurence = [ v for v in dict_person_count.values() ]\n",
    "count_person = [(v,k) for k, v in dict_person_count.items() ]"
   ]
  },
  {
   "cell_type": "code",
   "execution_count": 270,
   "metadata": {},
   "outputs": [],
   "source": [
    "person_occurrence_metaTo = pd.DataFrame({'personId': personId, 'occurency': occurence,})\n",
    "\n",
    "person_occurrence_metaTo = person_occurrence_metaTo.sort_values('occurency', ascending=False)"
   ]
  },
  {
   "cell_type": "code",
   "execution_count": 283,
   "metadata": {},
   "outputs": [],
   "source": [
    "important_sender = person_occurrence_metaTo[:15]"
   ]
  },
  {
   "cell_type": "code",
   "execution_count": 284,
   "metadata": {},
   "outputs": [],
   "source": [
    "dict_id2name = dict(zip(persons.Id, persons.Name))"
   ]
  },
  {
   "cell_type": "code",
   "execution_count": 285,
   "metadata": {},
   "outputs": [],
   "source": [
    "names = []\n",
    "for i in important_sender.personId:\n",
    "    names.append(dict_id2name[i])"
   ]
  },
  {
   "cell_type": "code",
   "execution_count": 286,
   "metadata": {},
   "outputs": [
    {
     "data": {
      "text/html": [
       "<div>\n",
       "<style scoped>\n",
       "    .dataframe tbody tr th:only-of-type {\n",
       "        vertical-align: middle;\n",
       "    }\n",
       "\n",
       "    .dataframe tbody tr th {\n",
       "        vertical-align: top;\n",
       "    }\n",
       "\n",
       "    .dataframe thead th {\n",
       "        text-align: right;\n",
       "    }\n",
       "</style>\n",
       "<table border=\"1\" class=\"dataframe\">\n",
       "  <thead>\n",
       "    <tr style=\"text-align: right;\">\n",
       "      <th></th>\n",
       "      <th>personId</th>\n",
       "      <th>occurency</th>\n",
       "      <th>name</th>\n",
       "    </tr>\n",
       "  </thead>\n",
       "  <tbody>\n",
       "    <tr>\n",
       "      <th>0</th>\n",
       "      <td>80</td>\n",
       "      <td>5477</td>\n",
       "      <td>Hillary Clinton</td>\n",
       "    </tr>\n",
       "    <tr>\n",
       "      <th>5</th>\n",
       "      <td>32</td>\n",
       "      <td>395</td>\n",
       "      <td>Cheryl Mills</td>\n",
       "    </tr>\n",
       "    <tr>\n",
       "      <th>7</th>\n",
       "      <td>504</td>\n",
       "      <td>352</td>\n",
       "      <td>a bed in h@state.gov</td>\n",
       "    </tr>\n",
       "    <tr>\n",
       "      <th>4</th>\n",
       "      <td>334</td>\n",
       "      <td>298</td>\n",
       "      <td>sulliva njj@state.g ov</td>\n",
       "    </tr>\n",
       "    <tr>\n",
       "      <th>12</th>\n",
       "      <td>116</td>\n",
       "      <td>241</td>\n",
       "      <td>Lauren Jiloty</td>\n",
       "    </tr>\n",
       "    <tr>\n",
       "      <th>13</th>\n",
       "      <td>124</td>\n",
       "      <td>150</td>\n",
       "      <td>Lona Valmoro</td>\n",
       "    </tr>\n",
       "    <tr>\n",
       "      <th>1</th>\n",
       "      <td>81</td>\n",
       "      <td>82</td>\n",
       "      <td>Huma Abedin</td>\n",
       "    </tr>\n",
       "    <tr>\n",
       "      <th>17</th>\n",
       "      <td>485</td>\n",
       "      <td>62</td>\n",
       "      <td>p rei n es</td>\n",
       "    </tr>\n",
       "    <tr>\n",
       "      <th>41</th>\n",
       "      <td>194</td>\n",
       "      <td>50</td>\n",
       "      <td>Sidney Blumenthal</td>\n",
       "    </tr>\n",
       "    <tr>\n",
       "      <th>11</th>\n",
       "      <td>87</td>\n",
       "      <td>49</td>\n",
       "      <td>Jake Sullivan</td>\n",
       "    </tr>\n",
       "    <tr>\n",
       "      <th>58</th>\n",
       "      <td>10</td>\n",
       "      <td>38</td>\n",
       "      <td>Anne-Marie Slaughter</td>\n",
       "    </tr>\n",
       "    <tr>\n",
       "      <th>68</th>\n",
       "      <td>180</td>\n",
       "      <td>36</td>\n",
       "      <td>Richard Verma</td>\n",
       "    </tr>\n",
       "    <tr>\n",
       "      <th>8</th>\n",
       "      <td>513</td>\n",
       "      <td>34</td>\n",
       "      <td>ha nleym r@state.gov</td>\n",
       "    </tr>\n",
       "    <tr>\n",
       "      <th>31</th>\n",
       "      <td>122</td>\n",
       "      <td>28</td>\n",
       "      <td>Lissa Muscatine</td>\n",
       "    </tr>\n",
       "    <tr>\n",
       "      <th>2</th>\n",
       "      <td>185</td>\n",
       "      <td>26</td>\n",
       "      <td>Robert Russo</td>\n",
       "    </tr>\n",
       "  </tbody>\n",
       "</table>\n",
       "</div>"
      ],
      "text/plain": [
       "    personId  occurency                    name\n",
       "0         80       5477         Hillary Clinton\n",
       "5         32        395            Cheryl Mills\n",
       "7        504        352    a bed in h@state.gov\n",
       "4        334        298  sulliva njj@state.g ov\n",
       "12       116        241           Lauren Jiloty\n",
       "13       124        150            Lona Valmoro\n",
       "1         81         82             Huma Abedin\n",
       "17       485         62              p rei n es\n",
       "41       194         50       Sidney Blumenthal\n",
       "11        87         49           Jake Sullivan\n",
       "58        10         38    Anne-Marie Slaughter\n",
       "68       180         36           Richard Verma\n",
       "8        513         34    ha nleym r@state.gov\n",
       "31       122         28         Lissa Muscatine\n",
       "2        185         26            Robert Russo"
      ]
     },
     "execution_count": 286,
     "metadata": {},
     "output_type": "execute_result"
    }
   ],
   "source": [
    "important_sender['name'] = names\n",
    "important_sender"
   ]
  },
  {
   "cell_type": "code",
   "execution_count": 276,
   "metadata": {},
   "outputs": [
    {
     "data": {
      "text/plain": [
       "'name'"
      ]
     },
     "execution_count": 276,
     "metadata": {},
     "output_type": "execute_result"
    }
   ],
   "source": [
    "important_sender.columns[2]"
   ]
  },
  {
   "cell_type": "code",
   "execution_count": null,
   "metadata": {},
   "outputs": [],
   "source": []
  }
 ],
 "metadata": {
  "kernelspec": {
   "display_name": "Python 3",
   "language": "python",
   "name": "python3"
  },
  "language_info": {
   "codemirror_mode": {
    "name": "ipython",
    "version": 3
   },
   "file_extension": ".py",
   "mimetype": "text/x-python",
   "name": "python",
   "nbconvert_exporter": "python",
   "pygments_lexer": "ipython3",
   "version": "3.6.4"
  }
 },
 "nbformat": 4,
 "nbformat_minor": 2
}
