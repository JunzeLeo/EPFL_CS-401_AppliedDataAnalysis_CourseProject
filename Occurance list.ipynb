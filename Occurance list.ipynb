{
 "cells": [
  {
   "cell_type": "markdown",
   "metadata": {},
   "source": [
    "**Tasks for milestone 2**\n",
    "* Data wrangling: clean and deal with unvalid or missing data; combine data files for useful information\n",
    "* Construct a countries occurence list\n",
    "* Identify key words related to international affairs in the body text\n",
    "* Find the communication frequency between Hillary and the others\n",
    "* Personal social network creation and analysis: use the communication frequency to create a personal social network of Hillary and analyze the network structure"
   ]
  },
  {
   "cell_type": "code",
   "execution_count": 17,
   "metadata": {},
   "outputs": [],
   "source": [
    "import numpy as np\n",
    "import pandas as pd\n",
    "import matplotlib.pyplot as plt\n",
    "import seaborn as sns"
   ]
  },
  {
   "cell_type": "code",
   "execution_count": 2,
   "metadata": {},
   "outputs": [],
   "source": [
    "data_folder = './hillary-clinton-emails/'"
   ]
  },
  {
   "cell_type": "code",
   "execution_count": 3,
   "metadata": {},
   "outputs": [],
   "source": [
    "emails_raw = pd.read_csv(data_folder + 'Emails.csv', parse_dates=['MetadataDateSent', 'MetadataDateReleased', 'ExtractedDateSent', 'ExtractedDateReleased'])\n",
    "aliases = pd.read_csv(data_folder + 'Aliases.csv')\n",
    "emailreceivers = pd.read_csv(data_folder + 'EmailReceivers.csv')\n",
    "persons = pd.read_csv(data_folder + 'Persons.csv')"
   ]
  },
  {
   "cell_type": "code",
   "execution_count": 4,
   "metadata": {},
   "outputs": [],
   "source": [
    "rawtext = emails_raw[['Id', 'RawText']]"
   ]
  },
  {
   "cell_type": "code",
   "execution_count": 5,
   "metadata": {},
   "outputs": [
    {
     "data": {
      "text/html": [
       "<div>\n",
       "<style scoped>\n",
       "    .dataframe tbody tr th:only-of-type {\n",
       "        vertical-align: middle;\n",
       "    }\n",
       "\n",
       "    .dataframe tbody tr th {\n",
       "        vertical-align: top;\n",
       "    }\n",
       "\n",
       "    .dataframe thead th {\n",
       "        text-align: right;\n",
       "    }\n",
       "</style>\n",
       "<table border=\"1\" class=\"dataframe\">\n",
       "  <thead>\n",
       "    <tr style=\"text-align: right;\">\n",
       "      <th></th>\n",
       "      <th>Id</th>\n",
       "      <th>RawText</th>\n",
       "    </tr>\n",
       "  </thead>\n",
       "  <tbody>\n",
       "    <tr>\n",
       "      <th>0</th>\n",
       "      <td>1</td>\n",
       "      <td>UNCLASSIFIED\\nU.S. Department of State\\nCase N...</td>\n",
       "    </tr>\n",
       "    <tr>\n",
       "      <th>1</th>\n",
       "      <td>2</td>\n",
       "      <td>UNCLASSIFIED\\nU.S. Department of State\\nCase N...</td>\n",
       "    </tr>\n",
       "    <tr>\n",
       "      <th>2</th>\n",
       "      <td>3</td>\n",
       "      <td>UNCLASSIFIED\\nU.S. Department of State\\nCase N...</td>\n",
       "    </tr>\n",
       "    <tr>\n",
       "      <th>3</th>\n",
       "      <td>4</td>\n",
       "      <td>UNCLASSIFIED\\nU.S. Department of State\\nCase N...</td>\n",
       "    </tr>\n",
       "    <tr>\n",
       "      <th>4</th>\n",
       "      <td>5</td>\n",
       "      <td>B6\\nUNCLASSIFIED\\nU.S. Department of State\\nCa...</td>\n",
       "    </tr>\n",
       "  </tbody>\n",
       "</table>\n",
       "</div>"
      ],
      "text/plain": [
       "   Id                                            RawText\n",
       "0   1  UNCLASSIFIED\\nU.S. Department of State\\nCase N...\n",
       "1   2  UNCLASSIFIED\\nU.S. Department of State\\nCase N...\n",
       "2   3  UNCLASSIFIED\\nU.S. Department of State\\nCase N...\n",
       "3   4  UNCLASSIFIED\\nU.S. Department of State\\nCase N...\n",
       "4   5  B6\\nUNCLASSIFIED\\nU.S. Department of State\\nCa..."
      ]
     },
     "execution_count": 5,
     "metadata": {},
     "output_type": "execute_result"
    }
   ],
   "source": [
    "rawtext.head()"
   ]
  },
  {
   "cell_type": "code",
   "execution_count": 6,
   "metadata": {},
   "outputs": [],
   "source": [
    "rawtext_list = emails_raw['RawText']"
   ]
  },
  {
   "cell_type": "code",
   "execution_count": 7,
   "metadata": {},
   "outputs": [],
   "source": [
    "emails = emails_raw[['Id',\n",
    "                    'MetadataSubject',\n",
    "                    'MetadataTo',\n",
    "                    'MetadataFrom',\n",
    "                    'SenderPersonId',\n",
    "                    'MetadataDateSent',\n",
    "                    'MetadataDateReleased',\n",
    "                    'ExtractedSubject',\n",
    "                    'ExtractedTo',\n",
    "                    'ExtractedFrom', \n",
    "                    'ExtractedCc',\n",
    "                    'ExtractedDateSent',\n",
    "                    'ExtractedDateReleased',\n",
    "                    'ExtractedReleaseInPartOrFull',\n",
    "                    'ExtractedBodyText']]"
   ]
  },
  {
   "cell_type": "code",
   "execution_count": 8,
   "metadata": {},
   "outputs": [
    {
     "data": {
      "text/html": [
       "<div>\n",
       "<style scoped>\n",
       "    .dataframe tbody tr th:only-of-type {\n",
       "        vertical-align: middle;\n",
       "    }\n",
       "\n",
       "    .dataframe tbody tr th {\n",
       "        vertical-align: top;\n",
       "    }\n",
       "\n",
       "    .dataframe thead th {\n",
       "        text-align: right;\n",
       "    }\n",
       "</style>\n",
       "<table border=\"1\" class=\"dataframe\">\n",
       "  <thead>\n",
       "    <tr style=\"text-align: right;\">\n",
       "      <th></th>\n",
       "      <th>Id</th>\n",
       "      <th>MetadataSubject</th>\n",
       "      <th>MetadataTo</th>\n",
       "      <th>MetadataFrom</th>\n",
       "      <th>SenderPersonId</th>\n",
       "      <th>MetadataDateSent</th>\n",
       "      <th>MetadataDateReleased</th>\n",
       "      <th>ExtractedSubject</th>\n",
       "      <th>ExtractedTo</th>\n",
       "      <th>ExtractedFrom</th>\n",
       "      <th>ExtractedCc</th>\n",
       "      <th>ExtractedDateSent</th>\n",
       "      <th>ExtractedDateReleased</th>\n",
       "      <th>ExtractedReleaseInPartOrFull</th>\n",
       "      <th>ExtractedBodyText</th>\n",
       "    </tr>\n",
       "  </thead>\n",
       "  <tbody>\n",
       "    <tr>\n",
       "      <th>0</th>\n",
       "      <td>1</td>\n",
       "      <td>WOW</td>\n",
       "      <td>H</td>\n",
       "      <td>Sullivan, Jacob J</td>\n",
       "      <td>87.0</td>\n",
       "      <td>2012-09-12 04:00:00</td>\n",
       "      <td>2015-05-22 04:00:00</td>\n",
       "      <td>FW: Wow</td>\n",
       "      <td>NaN</td>\n",
       "      <td>Sullivan, Jacob J &lt;Sullivan11@state.gov&gt;</td>\n",
       "      <td>NaN</td>\n",
       "      <td>Wednesday, September 12, 2012 10:16 AM</td>\n",
       "      <td>2015-05-13</td>\n",
       "      <td>RELEASE IN FULL</td>\n",
       "      <td>NaN</td>\n",
       "    </tr>\n",
       "    <tr>\n",
       "      <th>1</th>\n",
       "      <td>2</td>\n",
       "      <td>H: LATEST: HOW SYRIA IS AIDING QADDAFI AND MOR...</td>\n",
       "      <td>H</td>\n",
       "      <td>NaN</td>\n",
       "      <td>NaN</td>\n",
       "      <td>2011-03-03 05:00:00</td>\n",
       "      <td>2015-05-22 04:00:00</td>\n",
       "      <td>NaN</td>\n",
       "      <td>NaN</td>\n",
       "      <td>NaN</td>\n",
       "      <td>NaN</td>\n",
       "      <td>nan</td>\n",
       "      <td>2015-05-13</td>\n",
       "      <td>RELEASE IN PART</td>\n",
       "      <td>B6\\nThursday, March 3, 2011 9:45 PM\\nH: Latest...</td>\n",
       "    </tr>\n",
       "    <tr>\n",
       "      <th>2</th>\n",
       "      <td>3</td>\n",
       "      <td>CHRIS STEVENS</td>\n",
       "      <td>;H</td>\n",
       "      <td>Mills, Cheryl D</td>\n",
       "      <td>32.0</td>\n",
       "      <td>2012-09-12 04:00:00</td>\n",
       "      <td>2015-05-22 04:00:00</td>\n",
       "      <td>Re: Chris Stevens</td>\n",
       "      <td>B6</td>\n",
       "      <td>Mills, Cheryl D &lt;MillsCD@state.gov&gt;</td>\n",
       "      <td>Abedin, Huma</td>\n",
       "      <td>Wednesday, September 12, 2012 11:52 AM</td>\n",
       "      <td>2015-05-14</td>\n",
       "      <td>RELEASE IN PART</td>\n",
       "      <td>Thx</td>\n",
       "    </tr>\n",
       "    <tr>\n",
       "      <th>3</th>\n",
       "      <td>4</td>\n",
       "      <td>CAIRO CONDEMNATION - FINAL</td>\n",
       "      <td>H</td>\n",
       "      <td>Mills, Cheryl D</td>\n",
       "      <td>32.0</td>\n",
       "      <td>2012-09-12 04:00:00</td>\n",
       "      <td>2015-05-22 04:00:00</td>\n",
       "      <td>FVV: Cairo Condemnation - Final</td>\n",
       "      <td>NaN</td>\n",
       "      <td>Mills, Cheryl D &lt;MillsCD@state.gov&gt;</td>\n",
       "      <td>Mitchell, Andrew B</td>\n",
       "      <td>Wednesday, September 12,2012 12:44 PM</td>\n",
       "      <td>2015-05-13</td>\n",
       "      <td>RELEASE IN PART</td>\n",
       "      <td>NaN</td>\n",
       "    </tr>\n",
       "    <tr>\n",
       "      <th>4</th>\n",
       "      <td>5</td>\n",
       "      <td>H: LATEST: HOW SYRIA IS AIDING QADDAFI AND MOR...</td>\n",
       "      <td>Abedin, Huma</td>\n",
       "      <td>H</td>\n",
       "      <td>80.0</td>\n",
       "      <td>2011-03-11 05:00:00</td>\n",
       "      <td>2015-05-22 04:00:00</td>\n",
       "      <td>NaN</td>\n",
       "      <td>NaN</td>\n",
       "      <td>NaN</td>\n",
       "      <td>NaN</td>\n",
       "      <td>nan</td>\n",
       "      <td>2015-05-13</td>\n",
       "      <td>RELEASE IN PART</td>\n",
       "      <td>H &lt;hrod17@clintonemail.com&gt;\\nFriday, March 11,...</td>\n",
       "    </tr>\n",
       "  </tbody>\n",
       "</table>\n",
       "</div>"
      ],
      "text/plain": [
       "   Id                                    MetadataSubject    MetadataTo  \\\n",
       "0   1                                                WOW             H   \n",
       "1   2  H: LATEST: HOW SYRIA IS AIDING QADDAFI AND MOR...             H   \n",
       "2   3                                      CHRIS STEVENS            ;H   \n",
       "3   4                         CAIRO CONDEMNATION - FINAL             H   \n",
       "4   5  H: LATEST: HOW SYRIA IS AIDING QADDAFI AND MOR...  Abedin, Huma   \n",
       "\n",
       "        MetadataFrom  SenderPersonId    MetadataDateSent MetadataDateReleased  \\\n",
       "0  Sullivan, Jacob J            87.0 2012-09-12 04:00:00  2015-05-22 04:00:00   \n",
       "1                NaN             NaN 2011-03-03 05:00:00  2015-05-22 04:00:00   \n",
       "2    Mills, Cheryl D            32.0 2012-09-12 04:00:00  2015-05-22 04:00:00   \n",
       "3    Mills, Cheryl D            32.0 2012-09-12 04:00:00  2015-05-22 04:00:00   \n",
       "4                  H            80.0 2011-03-11 05:00:00  2015-05-22 04:00:00   \n",
       "\n",
       "                  ExtractedSubject ExtractedTo  \\\n",
       "0                          FW: Wow         NaN   \n",
       "1                              NaN         NaN   \n",
       "2                Re: Chris Stevens          B6   \n",
       "3  FVV: Cairo Condemnation - Final         NaN   \n",
       "4                              NaN         NaN   \n",
       "\n",
       "                              ExtractedFrom         ExtractedCc  \\\n",
       "0  Sullivan, Jacob J <Sullivan11@state.gov>                 NaN   \n",
       "1                                       NaN                 NaN   \n",
       "2       Mills, Cheryl D <MillsCD@state.gov>        Abedin, Huma   \n",
       "3       Mills, Cheryl D <MillsCD@state.gov>  Mitchell, Andrew B   \n",
       "4                                       NaN                 NaN   \n",
       "\n",
       "                        ExtractedDateSent ExtractedDateReleased  \\\n",
       "0  Wednesday, September 12, 2012 10:16 AM            2015-05-13   \n",
       "1                                     nan            2015-05-13   \n",
       "2  Wednesday, September 12, 2012 11:52 AM            2015-05-14   \n",
       "3   Wednesday, September 12,2012 12:44 PM            2015-05-13   \n",
       "4                                     nan            2015-05-13   \n",
       "\n",
       "  ExtractedReleaseInPartOrFull  \\\n",
       "0              RELEASE IN FULL   \n",
       "1              RELEASE IN PART   \n",
       "2              RELEASE IN PART   \n",
       "3              RELEASE IN PART   \n",
       "4              RELEASE IN PART   \n",
       "\n",
       "                                   ExtractedBodyText  \n",
       "0                                                NaN  \n",
       "1  B6\\nThursday, March 3, 2011 9:45 PM\\nH: Latest...  \n",
       "2                                                Thx  \n",
       "3                                                NaN  \n",
       "4  H <hrod17@clintonemail.com>\\nFriday, March 11,...  "
      ]
     },
     "execution_count": 8,
     "metadata": {},
     "output_type": "execute_result"
    }
   ],
   "source": [
    "emails.head()"
   ]
  },
  {
   "cell_type": "markdown",
   "metadata": {},
   "source": [
    "### Construct a countries occurence list"
   ]
  },
  {
   "cell_type": "code",
   "execution_count": 9,
   "metadata": {},
   "outputs": [],
   "source": [
    "# load the country dataset\n",
    "country_dataset_raw = pd.read_excel(data_folder + 'countries of the world.xls')"
   ]
  },
  {
   "cell_type": "code",
   "execution_count": 10,
   "metadata": {},
   "outputs": [],
   "source": [
    "# data wrangling on the country dataset\n",
    "country_dataset = country_dataset_raw['Data is public domain from US government.'].drop([0,1,2,3], axis = 0)"
   ]
  },
  {
   "cell_type": "code",
   "execution_count": 12,
   "metadata": {
    "scrolled": false
   },
   "outputs": [
    {
     "name": "stderr",
     "output_type": "stream",
     "text": [
      "/anaconda3/lib/python3.6/site-packages/ipykernel_launcher.py:15: SettingWithCopyWarning: \n",
      "A value is trying to be set on a copy of a slice from a DataFrame.\n",
      "Try using .loc[row_indexer,col_indexer] = value instead\n",
      "\n",
      "See the caveats in the documentation: http://pandas.pydata.org/pandas-docs/stable/indexing.html#indexing-view-versus-copy\n",
      "  from ipykernel import kernelapp as app\n"
     ]
    }
   ],
   "source": [
    "# lower the letters in rawtext and country name\n",
    "rawtext_lower = rawtext_list.str.lower()   \n",
    "country_dataset_lower = country_dataset.str.lower()\n",
    "occurance = np.zeros(country_dataset.shape[0])\n",
    "\n",
    "# calculate the occurance\n",
    "for i in range(country_dataset.shape[0]):\n",
    "    country_lower = country_dataset_lower.iloc[i]\n",
    "    country = country_dataset.iloc[i]\n",
    "    occurance_result = rawtext_lower.str.contains(country_lower).replace([False, True], [0, 1])\n",
    "    occurance_result = pd.DataFrame(occurance_result)\n",
    "    occurance[i] = occurance_result.sum()\n",
    "    \n",
    "    if occurance[i] > 0:\n",
    "        rawtext[country] = occurance_result\n"
   ]
  },
  {
   "cell_type": "code",
   "execution_count": 13,
   "metadata": {},
   "outputs": [],
   "source": [
    "# match the EmailId and the occurance number\n",
    "id_occurance = rawtext.drop(['RawText'], axis = 1)"
   ]
  },
  {
   "cell_type": "code",
   "execution_count": 15,
   "metadata": {},
   "outputs": [],
   "source": [
    "# create country occurance list\n",
    "d = {'country' : country_dataset, 'occurance' : occurance}\n",
    "occuranlist = pd.DataFrame(data = d)\n",
    "occurance_list = occuranlist.sort_values(by = ['occurance'], ascending = False)"
   ]
  },
  {
   "cell_type": "code",
   "execution_count": 50,
   "metadata": {},
   "outputs": [
    {
     "data": {
      "image/png": "[encoded data removed]",
      "text/plain": [
       "<Figure size 842.4x595.44 with 1 Axes>"
      ]
     },
     "metadata": {},
     "output_type": "display_data"
    }
   ],
   "source": [
    "# plot the country occurance\n",
    "occurance_list_plot = occurance_list.iloc[1:21]\n",
    "\n",
    "sns.set(style=\"whitegrid\", rc={'figure.figsize':(11.7,8.27)})\n",
    "\n",
    "ax = sns.barplot(x=\"country\", y=\"occurance\", data = occurance_list_plot, palette=\"Blues_d\")\n",
    "ax.set_title('Top 20 most frequently discussed countries')\n",
    "ax.set_xticklabels(occurance_list_plot.country, rotation=90);\n"
   ]
  }
 ],
 "metadata": {
  "kernelspec": {
   "display_name": "Python 3",
   "language": "python",
   "name": "python3"
  },
  "language_info": {
   "codemirror_mode": {
    "name": "ipython",
    "version": 3
   },
   "file_extension": ".py",
   "mimetype": "text/x-python",
   "name": "python",
   "nbconvert_exporter": "python",
   "pygments_lexer": "ipython3",
   "version": "3.6.5"
  }
 },
 "nbformat": 4,
 "nbformat_minor": 2
}
