{
 "cells": [
  {
   "cell_type": "markdown",
   "metadata": {},
   "source": [
    "# Secrets inside Clinton's email"
   ]
  },
  {
   "cell_type": "markdown",
   "metadata": {},
   "source": [
    "## Abstract\n",
    "In 2015, Hillary Clinton has been embroiled in controversy over the use of personal email accounts on non-government servers during her time as the United States Secretary of State. Over 2000 confidential emails were leaked, some of them are even classified as “Top Secret”. \n",
    "\n",
    "In this project we will look at the politic, security and economic aspects through the 7945 leaked emails redacted and published by the State Department and cleaned by Kaggle. We also want to analyze the personal social network of Hillary Clinton and the top topics they discussed.\n",
    "\n",
    "As a superpower, the United States has a great impact on the world’s stability, and their position and attitude will strongly influence the international affairs. We want to figure out the countries mainly mentioned, the problems concerned and conclude the impact they made on the international affairs throughout the analysis of these emails."
   ]
  },
  {
   "cell_type": "markdown",
   "metadata": {},
   "source": [
    "The dataset can be found on [Kaggle](https://www.kaggle.com/kaggle/hillary-clinton-emails)."
   ]
  },
  {
   "cell_type": "markdown",
   "metadata": {},
   "source": [
    "## Milestone 2\n",
    "**Tasks for milestone 2**\n",
    "* Data wrangling: clean and deal with unvalid or missing data\n",
    "* Combine and merge data files for further analysis\n",
    "* Find the communication frequency between Hillary and the others in both direction\n",
    "* Construct a countries occurence list and visualization"
   ]
  },
  {
   "cell_type": "markdown",
   "metadata": {},
   "source": [
    "---"
   ]
  },
  {
   "cell_type": "markdown",
   "metadata": {},
   "source": [
    "## Data wrangling: Clean and deal with unuseful data"
   ]
  },
  {
   "cell_type": "code",
   "execution_count": 1,
   "metadata": {},
   "outputs": [],
   "source": [
    "import numpy as np\n",
    "import pandas as pd\n",
    "import string\n",
    "import re\n",
    "import seaborn as sns\n",
    "import matplotlib.pyplot as plt\n",
    "from collections import Counter\n",
    "pd.options.mode.chained_assignment = None  # default='warn', Mutes warnings when copying a slice from a DataFrame."
   ]
  },
  {
   "cell_type": "code",
   "execution_count": 2,
   "metadata": {},
   "outputs": [],
   "source": [
    "data_folder = './hillary-clinton-emails/'"
   ]
  },
  {
   "cell_type": "code",
   "execution_count": 3,
   "metadata": {},
   "outputs": [],
   "source": [
    "# load data and parse time to timestamp\n",
    "emails_raw = pd.read_csv(data_folder + 'Emails.csv', parse_dates=['MetadataDateSent', 'MetadataDateReleased', 'ExtractedDateSent', 'ExtractedDateReleased'])"
   ]
  },
  {
   "cell_type": "markdown",
   "metadata": {},
   "source": [
    "We extract information from the raw data in the following way:  \n",
    "  \n",
    "- **Release information**: some features in the data, for example `DocNumber`, are not of our concern. They are information of the release of the emails but not the information that the email itself tells. For this reason, we extract only useful features from the raw data.  \n",
    "- **Redundant information**: there are also some features with a lot of `Nan` values, for example `ExtractedTo`. This overlaps with some information in `MetadataTo` and is not useful for our analysis, so we do not consider them. The `SenderPersonId` is a personId-parsed version of `MetadataTo`, so we also ignore this column.\n",
    "- **Uncompleted data**: we have compare the `RawText` and `ExtractedBodyText`, and we deduce that the later is uncomplete. For textual information extraction we will only consider the first one.\n",
    "- **Large data**: we extract the `RawText` from the raw data apart from the dataset because it is very large comparing to the other features. We will use this feature to mesure the textual information containing in the email, for example the countries mentioned ot other key words."
   ]
  },
  {
   "cell_type": "code",
   "execution_count": 4,
   "metadata": {},
   "outputs": [],
   "source": [
    "# extract useful information only\n",
    "emails = emails_raw[['Id', \n",
    "                    'MetadataSubject',\n",
    "                    'MetadataTo',\n",
    "                    'SenderPersonId',\n",
    "                    'MetadataDateSent',\n",
    "                    'ExtractedReleaseInPartOrFull']]\n",
    "\n",
    "# extract raw text for texual analysis\n",
    "rawtext = emails_raw[['Id', 'RawText']]"
   ]
  },
  {
   "cell_type": "code",
   "execution_count": 5,
   "metadata": {
    "scrolled": true
   },
   "outputs": [
    {
     "data": {
      "text/html": [
       "<div>\n",
       "<style scoped>\n",
       "    .dataframe tbody tr th:only-of-type {\n",
       "        vertical-align: middle;\n",
       "    }\n",
       "\n",
       "    .dataframe tbody tr th {\n",
       "        vertical-align: top;\n",
       "    }\n",
       "\n",
       "    .dataframe thead th {\n",
       "        text-align: right;\n",
       "    }\n",
       "</style>\n",
       "<table border=\"1\" class=\"dataframe\">\n",
       "  <thead>\n",
       "    <tr style=\"text-align: right;\">\n",
       "      <th></th>\n",
       "      <th>Id</th>\n",
       "      <th>MetadataSubject</th>\n",
       "      <th>MetadataTo</th>\n",
       "      <th>SenderPersonId</th>\n",
       "      <th>MetadataDateSent</th>\n",
       "      <th>ExtractedReleaseInPartOrFull</th>\n",
       "    </tr>\n",
       "  </thead>\n",
       "  <tbody>\n",
       "    <tr>\n",
       "      <th>0</th>\n",
       "      <td>1</td>\n",
       "      <td>WOW</td>\n",
       "      <td>H</td>\n",
       "      <td>87.0</td>\n",
       "      <td>2012-09-12 04:00:00</td>\n",
       "      <td>RELEASE IN FULL</td>\n",
       "    </tr>\n",
       "    <tr>\n",
       "      <th>1</th>\n",
       "      <td>2</td>\n",
       "      <td>H: LATEST: HOW SYRIA IS AIDING QADDAFI AND MOR...</td>\n",
       "      <td>H</td>\n",
       "      <td>NaN</td>\n",
       "      <td>2011-03-03 05:00:00</td>\n",
       "      <td>RELEASE IN PART</td>\n",
       "    </tr>\n",
       "    <tr>\n",
       "      <th>2</th>\n",
       "      <td>3</td>\n",
       "      <td>CHRIS STEVENS</td>\n",
       "      <td>;H</td>\n",
       "      <td>32.0</td>\n",
       "      <td>2012-09-12 04:00:00</td>\n",
       "      <td>RELEASE IN PART</td>\n",
       "    </tr>\n",
       "    <tr>\n",
       "      <th>3</th>\n",
       "      <td>4</td>\n",
       "      <td>CAIRO CONDEMNATION - FINAL</td>\n",
       "      <td>H</td>\n",
       "      <td>32.0</td>\n",
       "      <td>2012-09-12 04:00:00</td>\n",
       "      <td>RELEASE IN PART</td>\n",
       "    </tr>\n",
       "    <tr>\n",
       "      <th>4</th>\n",
       "      <td>5</td>\n",
       "      <td>H: LATEST: HOW SYRIA IS AIDING QADDAFI AND MOR...</td>\n",
       "      <td>Abedin, Huma</td>\n",
       "      <td>80.0</td>\n",
       "      <td>2011-03-11 05:00:00</td>\n",
       "      <td>RELEASE IN PART</td>\n",
       "    </tr>\n",
       "  </tbody>\n",
       "</table>\n",
       "</div>"
      ],
      "text/plain": [
       "   Id                                    MetadataSubject    MetadataTo  \\\n",
       "0   1                                                WOW             H   \n",
       "1   2  H: LATEST: HOW SYRIA IS AIDING QADDAFI AND MOR...             H   \n",
       "2   3                                      CHRIS STEVENS            ;H   \n",
       "3   4                         CAIRO CONDEMNATION - FINAL             H   \n",
       "4   5  H: LATEST: HOW SYRIA IS AIDING QADDAFI AND MOR...  Abedin, Huma   \n",
       "\n",
       "   SenderPersonId    MetadataDateSent ExtractedReleaseInPartOrFull  \n",
       "0            87.0 2012-09-12 04:00:00              RELEASE IN FULL  \n",
       "1             NaN 2011-03-03 05:00:00              RELEASE IN PART  \n",
       "2            32.0 2012-09-12 04:00:00              RELEASE IN PART  \n",
       "3            32.0 2012-09-12 04:00:00              RELEASE IN PART  \n",
       "4            80.0 2011-03-11 05:00:00              RELEASE IN PART  "
      ]
     },
     "execution_count": 5,
     "metadata": {},
     "output_type": "execute_result"
    }
   ],
   "source": [
    "# show emails\n",
    "emails[:5]"
   ]
  },
  {
   "cell_type": "code",
   "execution_count": 6,
   "metadata": {},
   "outputs": [
    {
     "data": {
      "text/plain": [
       "array(['RELEASE IN FULL', 'RELEASE IN PART', 'UNKNOWN'], dtype=object)"
      ]
     },
     "execution_count": 6,
     "metadata": {},
     "output_type": "execute_result"
    }
   ],
   "source": [
    "emails.ExtractedReleaseInPartOrFull.unique()"
   ]
  },
  {
   "cell_type": "markdown",
   "metadata": {},
   "source": [
    "We observe that `ExtractedReleaseInPartOfFull` seems to be categorical, so we decide to assign integer values to it."
   ]
  },
  {
   "cell_type": "code",
   "execution_count": 7,
   "metadata": {},
   "outputs": [],
   "source": [
    "str_vals = emails.ExtractedReleaseInPartOrFull.unique()\n",
    "def part2int (x):\n",
    "    if x == str_vals[0]:\n",
    "        return 1\n",
    "    elif x == str_vals[1]:\n",
    "        return 0\n",
    "    else:\n",
    "        return -1"
   ]
  },
  {
   "cell_type": "code",
   "execution_count": 8,
   "metadata": {},
   "outputs": [
    {
     "data": {
      "text/html": [
       "<div>\n",
       "<style scoped>\n",
       "    .dataframe tbody tr th:only-of-type {\n",
       "        vertical-align: middle;\n",
       "    }\n",
       "\n",
       "    .dataframe tbody tr th {\n",
       "        vertical-align: top;\n",
       "    }\n",
       "\n",
       "    .dataframe thead th {\n",
       "        text-align: right;\n",
       "    }\n",
       "</style>\n",
       "<table border=\"1\" class=\"dataframe\">\n",
       "  <thead>\n",
       "    <tr style=\"text-align: right;\">\n",
       "      <th></th>\n",
       "      <th>Id</th>\n",
       "      <th>MetadataSubject</th>\n",
       "      <th>MetadataTo</th>\n",
       "      <th>SenderPersonId</th>\n",
       "      <th>MetadataDateSent</th>\n",
       "      <th>is_Full</th>\n",
       "    </tr>\n",
       "  </thead>\n",
       "  <tbody>\n",
       "    <tr>\n",
       "      <th>0</th>\n",
       "      <td>1</td>\n",
       "      <td>WOW</td>\n",
       "      <td>H</td>\n",
       "      <td>87.0</td>\n",
       "      <td>2012-09-12 04:00:00</td>\n",
       "      <td>1</td>\n",
       "    </tr>\n",
       "    <tr>\n",
       "      <th>1</th>\n",
       "      <td>2</td>\n",
       "      <td>H: LATEST: HOW SYRIA IS AIDING QADDAFI AND MOR...</td>\n",
       "      <td>H</td>\n",
       "      <td>NaN</td>\n",
       "      <td>2011-03-03 05:00:00</td>\n",
       "      <td>0</td>\n",
       "    </tr>\n",
       "    <tr>\n",
       "      <th>2</th>\n",
       "      <td>3</td>\n",
       "      <td>CHRIS STEVENS</td>\n",
       "      <td>;H</td>\n",
       "      <td>32.0</td>\n",
       "      <td>2012-09-12 04:00:00</td>\n",
       "      <td>0</td>\n",
       "    </tr>\n",
       "    <tr>\n",
       "      <th>3</th>\n",
       "      <td>4</td>\n",
       "      <td>CAIRO CONDEMNATION - FINAL</td>\n",
       "      <td>H</td>\n",
       "      <td>32.0</td>\n",
       "      <td>2012-09-12 04:00:00</td>\n",
       "      <td>0</td>\n",
       "    </tr>\n",
       "    <tr>\n",
       "      <th>4</th>\n",
       "      <td>5</td>\n",
       "      <td>H: LATEST: HOW SYRIA IS AIDING QADDAFI AND MOR...</td>\n",
       "      <td>Abedin, Huma</td>\n",
       "      <td>80.0</td>\n",
       "      <td>2011-03-11 05:00:00</td>\n",
       "      <td>0</td>\n",
       "    </tr>\n",
       "  </tbody>\n",
       "</table>\n",
       "</div>"
      ],
      "text/plain": [
       "   Id                                    MetadataSubject    MetadataTo  \\\n",
       "0   1                                                WOW             H   \n",
       "1   2  H: LATEST: HOW SYRIA IS AIDING QADDAFI AND MOR...             H   \n",
       "2   3                                      CHRIS STEVENS            ;H   \n",
       "3   4                         CAIRO CONDEMNATION - FINAL             H   \n",
       "4   5  H: LATEST: HOW SYRIA IS AIDING QADDAFI AND MOR...  Abedin, Huma   \n",
       "\n",
       "   SenderPersonId    MetadataDateSent  is_Full  \n",
       "0            87.0 2012-09-12 04:00:00        1  \n",
       "1             NaN 2011-03-03 05:00:00        0  \n",
       "2            32.0 2012-09-12 04:00:00        0  \n",
       "3            32.0 2012-09-12 04:00:00        0  \n",
       "4            80.0 2011-03-11 05:00:00        0  "
      ]
     },
     "execution_count": 8,
     "metadata": {},
     "output_type": "execute_result"
    }
   ],
   "source": [
    "# attribute integer values for ExtractedReleaseInPartOrFull\n",
    "emails.ExtractedReleaseInPartOrFull = emails.ExtractedReleaseInPartOrFull.apply(part2int)\n",
    "emails = emails.rename(columns={'ExtractedReleaseInPartOrFull': 'is_Full'})\n",
    "emails[:5]"
   ]
  },
  {
   "cell_type": "markdown",
   "metadata": {},
   "source": [
    "---"
   ]
  },
  {
   "cell_type": "markdown",
   "metadata": {},
   "source": [
    "## Combine and merge data files: convert involved alias to PersonId\n",
    "Information on sender and receiver in the `Emails.csv` is aliases. One person can have multiple alias, so it is not easy for us to make further analysis. We thus convert all involved aliases to the personId by using `Aliases.csv`."
   ]
  },
  {
   "cell_type": "code",
   "execution_count": 9,
   "metadata": {},
   "outputs": [],
   "source": [
    "# Load data of alias\n",
    "alias = pd.read_csv(data_folder + 'Aliases.csv')"
   ]
  },
  {
   "cell_type": "code",
   "execution_count": 10,
   "metadata": {},
   "outputs": [],
   "source": [
    "# rearrange strings to a basic form\n",
    "def manage_str(s):\n",
    "    s = re.sub(r'\\<.*', '', s)\n",
    "    s = re.sub(r'\\(.*\\)', '', s)\n",
    "    return s.lower()\\\n",
    "            .replace(',', '').replace('-', '').replace(' ', '').replace(\"'\", '').replace('‘', '')\\\n",
    "            .replace('`', '').replace('°', '').replace('\"', '').replace('•', '').replace('(', '')\\\n",
    "            .replace(')', '')"
   ]
  },
  {
   "cell_type": "code",
   "execution_count": 11,
   "metadata": {},
   "outputs": [],
   "source": [
    "# create a dictionary of alias and personId\n",
    "dict_alias = dict(zip(alias.Alias.apply(manage_str), alias.PersonId))"
   ]
  },
  {
   "cell_type": "code",
   "execution_count": 12,
   "metadata": {},
   "outputs": [],
   "source": [
    "# convert alias to personId\n",
    "def alias2id(alias):\n",
    "    aliases = str(alias).split(';')\n",
    "    ids = []\n",
    "    for x in aliases:\n",
    "        x = manage_str(x)\n",
    "        if x in dict_alias.keys():\n",
    "            ids.append(dict_alias[x])\n",
    "    return ids"
   ]
  },
  {
   "cell_type": "code",
   "execution_count": 13,
   "metadata": {
    "scrolled": true
   },
   "outputs": [],
   "source": [
    "# Convert from alias to personId for five features related to people\n",
    "emails.MetadataTo = emails.MetadataTo.apply(alias2id)"
   ]
  },
  {
   "cell_type": "code",
   "execution_count": 14,
   "metadata": {
    "scrolled": false
   },
   "outputs": [
    {
     "data": {
      "text/html": [
       "<div>\n",
       "<style scoped>\n",
       "    .dataframe tbody tr th:only-of-type {\n",
       "        vertical-align: middle;\n",
       "    }\n",
       "\n",
       "    .dataframe tbody tr th {\n",
       "        vertical-align: top;\n",
       "    }\n",
       "\n",
       "    .dataframe thead th {\n",
       "        text-align: right;\n",
       "    }\n",
       "</style>\n",
       "<table border=\"1\" class=\"dataframe\">\n",
       "  <thead>\n",
       "    <tr style=\"text-align: right;\">\n",
       "      <th></th>\n",
       "      <th>Id</th>\n",
       "      <th>Subject</th>\n",
       "      <th>To</th>\n",
       "      <th>From</th>\n",
       "      <th>Date</th>\n",
       "      <th>is_Full</th>\n",
       "    </tr>\n",
       "  </thead>\n",
       "  <tbody>\n",
       "    <tr>\n",
       "      <th>0</th>\n",
       "      <td>1</td>\n",
       "      <td>WOW</td>\n",
       "      <td>[80]</td>\n",
       "      <td>87.0</td>\n",
       "      <td>2012-09-12 04:00:00</td>\n",
       "      <td>1</td>\n",
       "    </tr>\n",
       "    <tr>\n",
       "      <th>1</th>\n",
       "      <td>2</td>\n",
       "      <td>H: LATEST: HOW SYRIA IS AIDING QADDAFI AND MOR...</td>\n",
       "      <td>[80]</td>\n",
       "      <td>NaN</td>\n",
       "      <td>2011-03-03 05:00:00</td>\n",
       "      <td>0</td>\n",
       "    </tr>\n",
       "    <tr>\n",
       "      <th>2</th>\n",
       "      <td>3</td>\n",
       "      <td>CHRIS STEVENS</td>\n",
       "      <td>[80]</td>\n",
       "      <td>32.0</td>\n",
       "      <td>2012-09-12 04:00:00</td>\n",
       "      <td>0</td>\n",
       "    </tr>\n",
       "    <tr>\n",
       "      <th>3</th>\n",
       "      <td>4</td>\n",
       "      <td>CAIRO CONDEMNATION - FINAL</td>\n",
       "      <td>[80]</td>\n",
       "      <td>32.0</td>\n",
       "      <td>2012-09-12 04:00:00</td>\n",
       "      <td>0</td>\n",
       "    </tr>\n",
       "    <tr>\n",
       "      <th>4</th>\n",
       "      <td>5</td>\n",
       "      <td>H: LATEST: HOW SYRIA IS AIDING QADDAFI AND MOR...</td>\n",
       "      <td>[81]</td>\n",
       "      <td>80.0</td>\n",
       "      <td>2011-03-11 05:00:00</td>\n",
       "      <td>0</td>\n",
       "    </tr>\n",
       "  </tbody>\n",
       "</table>\n",
       "</div>"
      ],
      "text/plain": [
       "   Id                                            Subject    To  From  \\\n",
       "0   1                                                WOW  [80]  87.0   \n",
       "1   2  H: LATEST: HOW SYRIA IS AIDING QADDAFI AND MOR...  [80]   NaN   \n",
       "2   3                                      CHRIS STEVENS  [80]  32.0   \n",
       "3   4                         CAIRO CONDEMNATION - FINAL  [80]  32.0   \n",
       "4   5  H: LATEST: HOW SYRIA IS AIDING QADDAFI AND MOR...  [81]  80.0   \n",
       "\n",
       "                 Date  is_Full  \n",
       "0 2012-09-12 04:00:00        1  \n",
       "1 2011-03-03 05:00:00        0  \n",
       "2 2012-09-12 04:00:00        0  \n",
       "3 2012-09-12 04:00:00        0  \n",
       "4 2011-03-11 05:00:00        0  "
      ]
     },
     "execution_count": 14,
     "metadata": {},
     "output_type": "execute_result"
    }
   ],
   "source": [
    "# rename columns in a more intuitive way and show the processed data\n",
    "emails = emails.rename(columns={'MetadataSubject':'Subject', \n",
    "                                'SenderPersonId':'From', \n",
    "                                'MetadataTo':'To', \n",
    "                                'MetadataDateSent':'Date'})\n",
    "emails[:5]"
   ]
  },
  {
   "cell_type": "markdown",
   "metadata": {},
   "source": [
    "---"
   ]
  },
  {
   "cell_type": "markdown",
   "metadata": {},
   "source": [
    "## Find the communication frequency FROM and TO Hillary"
   ]
  },
  {
   "cell_type": "markdown",
   "metadata": {},
   "source": [
    "### 1. Distribution of receivers of emails when the sender is Hillary"
   ]
  },
  {
   "cell_type": "code",
   "execution_count": 15,
   "metadata": {},
   "outputs": [],
   "source": [
    "# load data of persons\n",
    "persons = pd.read_csv(data_folder + 'Persons.csv')"
   ]
  },
  {
   "cell_type": "code",
   "execution_count": 16,
   "metadata": {
    "scrolled": true
   },
   "outputs": [
    {
     "data": {
      "text/html": [
       "<div>\n",
       "<style scoped>\n",
       "    .dataframe tbody tr th:only-of-type {\n",
       "        vertical-align: middle;\n",
       "    }\n",
       "\n",
       "    .dataframe tbody tr th {\n",
       "        vertical-align: top;\n",
       "    }\n",
       "\n",
       "    .dataframe thead th {\n",
       "        text-align: right;\n",
       "    }\n",
       "</style>\n",
       "<table border=\"1\" class=\"dataframe\">\n",
       "  <thead>\n",
       "    <tr style=\"text-align: right;\">\n",
       "      <th></th>\n",
       "      <th>Id</th>\n",
       "      <th>Name</th>\n",
       "    </tr>\n",
       "  </thead>\n",
       "  <tbody>\n",
       "    <tr>\n",
       "      <th>0</th>\n",
       "      <td>1</td>\n",
       "      <td>111th Congress</td>\n",
       "    </tr>\n",
       "    <tr>\n",
       "      <th>1</th>\n",
       "      <td>2</td>\n",
       "      <td>AGNA USEMB Kabul Afghanistan</td>\n",
       "    </tr>\n",
       "    <tr>\n",
       "      <th>2</th>\n",
       "      <td>3</td>\n",
       "      <td>AP</td>\n",
       "    </tr>\n",
       "    <tr>\n",
       "      <th>3</th>\n",
       "      <td>4</td>\n",
       "      <td>ASUNCION</td>\n",
       "    </tr>\n",
       "    <tr>\n",
       "      <th>4</th>\n",
       "      <td>5</td>\n",
       "      <td>Alec</td>\n",
       "    </tr>\n",
       "  </tbody>\n",
       "</table>\n",
       "</div>"
      ],
      "text/plain": [
       "   Id                          Name\n",
       "0   1                111th Congress\n",
       "1   2  AGNA USEMB Kabul Afghanistan\n",
       "2   3                            AP\n",
       "3   4                      ASUNCION\n",
       "4   5                          Alec"
      ]
     },
     "execution_count": 16,
     "metadata": {},
     "output_type": "execute_result"
    }
   ],
   "source": [
    "# show data\n",
    "persons[:5]"
   ]
  },
  {
   "cell_type": "code",
   "execution_count": 17,
   "metadata": {},
   "outputs": [],
   "source": [
    "# dictionary that help searching for name of the person from its personId\n",
    "dict_persons = dict(zip(persons.Id, persons.Name))"
   ]
  },
  {
   "cell_type": "code",
   "execution_count": 18,
   "metadata": {},
   "outputs": [
    {
     "data": {
      "text/plain": [
       "'Hillary Clinton'"
      ]
     },
     "execution_count": 18,
     "metadata": {},
     "output_type": "execute_result"
    }
   ],
   "source": [
    "dict_persons[80]"
   ]
  },
  {
   "cell_type": "markdown",
   "metadata": {},
   "source": [
    "We observed from data that there are a lot of 80 values in the `To` and `From` column, and we verified that it is indeed Hillary Clinton - our petagonist."
   ]
  },
  {
   "cell_type": "code",
   "execution_count": 19,
   "metadata": {},
   "outputs": [],
   "source": [
    "# emails from Hillary to somebody\n",
    "emails_H2sb = emails.loc[emails['From'] == 80]"
   ]
  },
  {
   "cell_type": "code",
   "execution_count": 20,
   "metadata": {},
   "outputs": [],
   "source": [
    "# find all receivers\n",
    "email_receivers = []\n",
    "for i in emails_H2sb.To:\n",
    "    for j in i:\n",
    "        email_receivers.append(j)"
   ]
  },
  {
   "cell_type": "code",
   "execution_count": 21,
   "metadata": {},
   "outputs": [],
   "source": [
    "# count for occurency\n",
    "dict_receiver_count = dict(Counter(email_receivers))"
   ]
  },
  {
   "cell_type": "code",
   "execution_count": 22,
   "metadata": {},
   "outputs": [],
   "source": [
    "# construct a dataframe for receiver and occurence\n",
    "receiver_Ids = [ k for k in dict_receiver_count ]\n",
    "receiver_occurences = [ v for v in dict_receiver_count.values() ]\n",
    "receiver_count = pd.DataFrame({'receiver': receiver_Ids, 'occurence': receiver_occurences})\n",
    "\n",
    "# sort by occurence and take the most important receivers\n",
    "receiver_count = receiver_count.sort_values('occurence', ascending=False)\n",
    "important_receiver = receiver_count[:15]"
   ]
  },
  {
   "cell_type": "code",
   "execution_count": 23,
   "metadata": {
    "scrolled": true
   },
   "outputs": [
    {
     "data": {
      "text/html": [
       "<div>\n",
       "<style scoped>\n",
       "    .dataframe tbody tr th:only-of-type {\n",
       "        vertical-align: middle;\n",
       "    }\n",
       "\n",
       "    .dataframe tbody tr th {\n",
       "        vertical-align: top;\n",
       "    }\n",
       "\n",
       "    .dataframe thead th {\n",
       "        text-align: right;\n",
       "    }\n",
       "</style>\n",
       "<table border=\"1\" class=\"dataframe\">\n",
       "  <thead>\n",
       "    <tr style=\"text-align: right;\">\n",
       "      <th></th>\n",
       "      <th>name</th>\n",
       "      <th>occurence</th>\n",
       "    </tr>\n",
       "  </thead>\n",
       "  <tbody>\n",
       "    <tr>\n",
       "      <th>5</th>\n",
       "      <td>Cheryl Mills</td>\n",
       "      <td>354</td>\n",
       "    </tr>\n",
       "    <tr>\n",
       "      <th>4</th>\n",
       "      <td>a bed in h@state.gov</td>\n",
       "      <td>350</td>\n",
       "    </tr>\n",
       "    <tr>\n",
       "      <th>2</th>\n",
       "      <td>sulliva njj@state.g ov</td>\n",
       "      <td>297</td>\n",
       "    </tr>\n",
       "    <tr>\n",
       "      <th>7</th>\n",
       "      <td>Lauren Jiloty</td>\n",
       "      <td>234</td>\n",
       "    </tr>\n",
       "    <tr>\n",
       "      <th>8</th>\n",
       "      <td>Lona Valmoro</td>\n",
       "      <td>141</td>\n",
       "    </tr>\n",
       "    <tr>\n",
       "      <th>13</th>\n",
       "      <td>p rei n es</td>\n",
       "      <td>51</td>\n",
       "    </tr>\n",
       "    <tr>\n",
       "      <th>38</th>\n",
       "      <td>Sidney Blumenthal</td>\n",
       "      <td>50</td>\n",
       "    </tr>\n",
       "    <tr>\n",
       "      <th>0</th>\n",
       "      <td>Huma Abedin</td>\n",
       "      <td>37</td>\n",
       "    </tr>\n",
       "    <tr>\n",
       "      <th>6</th>\n",
       "      <td>ha nleym r@state.gov</td>\n",
       "      <td>33</td>\n",
       "    </tr>\n",
       "    <tr>\n",
       "      <th>64</th>\n",
       "      <td>Richard Verma</td>\n",
       "      <td>30</td>\n",
       "    </tr>\n",
       "    <tr>\n",
       "      <th>55</th>\n",
       "      <td>Anne-Marie Slaughter</td>\n",
       "      <td>29</td>\n",
       "    </tr>\n",
       "    <tr>\n",
       "      <th>28</th>\n",
       "      <td>Lissa Muscatine</td>\n",
       "      <td>27</td>\n",
       "    </tr>\n",
       "    <tr>\n",
       "      <th>1</th>\n",
       "      <td>Robert Russo</td>\n",
       "      <td>26</td>\n",
       "    </tr>\n",
       "    <tr>\n",
       "      <th>11</th>\n",
       "      <td>Jake Sullivan</td>\n",
       "      <td>21</td>\n",
       "    </tr>\n",
       "    <tr>\n",
       "      <th>36</th>\n",
       "      <td>Melanne Verveer</td>\n",
       "      <td>20</td>\n",
       "    </tr>\n",
       "  </tbody>\n",
       "</table>\n",
       "</div>"
      ],
      "text/plain": [
       "                      name  occurence\n",
       "5             Cheryl Mills        354\n",
       "4     a bed in h@state.gov        350\n",
       "2   sulliva njj@state.g ov        297\n",
       "7            Lauren Jiloty        234\n",
       "8             Lona Valmoro        141\n",
       "13              p rei n es         51\n",
       "38       Sidney Blumenthal         50\n",
       "0              Huma Abedin         37\n",
       "6     ha nleym r@state.gov         33\n",
       "64           Richard Verma         30\n",
       "55    Anne-Marie Slaughter         29\n",
       "28         Lissa Muscatine         27\n",
       "1             Robert Russo         26\n",
       "11           Jake Sullivan         21\n",
       "36         Melanne Verveer         20"
      ]
     },
     "execution_count": 23,
     "metadata": {},
     "output_type": "execute_result"
    }
   ],
   "source": [
    "# convert receiver ids to names\n",
    "names = []\n",
    "for i in important_receiver.receiver:\n",
    "    names.append(dict_persons[i])\n",
    "\n",
    "important_receiver['name'] = names\n",
    "important_receiver = important_receiver[['name', 'occurence']] # only keep information we need\n",
    "important_receiver"
   ]
  },
  {
   "cell_type": "code",
   "execution_count": 24,
   "metadata": {
    "scrolled": false
   },
   "outputs": [
    {
     "data": {
      "image/png": "[encoded data removed]",
      "text/plain": [
       "<matplotlib.figure.Figure at 0x18647824c88>"
      ]
     },
     "metadata": {},
     "output_type": "display_data"
    }
   ],
   "source": [
    "# plot a barplot of the most frequent receivers \n",
    "sns.set(style=\"whitegrid\", rc={'figure.figsize':(10, 7)})\n",
    "ax = sns.barplot(data = important_receiver, y=\"name\", x=\"occurence\", palette=\"Blues_d\")\n",
    "ax.set_title('15 Most frequent receivers', size=18)\n",
    "ax.set_yticklabels(important_receiver.name, size = 14)\n",
    "ax.set_xlabel('Occurence', size = 18)\n",
    "ax.set_ylabel('Receiver', size = 18);"
   ]
  },
  {
   "cell_type": "markdown",
   "metadata": {},
   "source": [
    "Some names don't seem to be clean data. We will analyze these people afterwards."
   ]
  },
  {
   "cell_type": "markdown",
   "metadata": {},
   "source": [
    "### 2. Distribution of sender of emails when the receiver is Hillary"
   ]
  },
  {
   "cell_type": "code",
   "execution_count": 25,
   "metadata": {
    "scrolled": true
   },
   "outputs": [
    {
     "data": {
      "text/html": [
       "<div>\n",
       "<style scoped>\n",
       "    .dataframe tbody tr th:only-of-type {\n",
       "        vertical-align: middle;\n",
       "    }\n",
       "\n",
       "    .dataframe tbody tr th {\n",
       "        vertical-align: top;\n",
       "    }\n",
       "\n",
       "    .dataframe thead th {\n",
       "        text-align: right;\n",
       "    }\n",
       "</style>\n",
       "<table border=\"1\" class=\"dataframe\">\n",
       "  <thead>\n",
       "    <tr style=\"text-align: right;\">\n",
       "      <th></th>\n",
       "      <th>Id</th>\n",
       "      <th>Subject</th>\n",
       "      <th>To</th>\n",
       "      <th>From</th>\n",
       "      <th>Date</th>\n",
       "      <th>is_Full</th>\n",
       "    </tr>\n",
       "  </thead>\n",
       "  <tbody>\n",
       "    <tr>\n",
       "      <th>0</th>\n",
       "      <td>1</td>\n",
       "      <td>WOW</td>\n",
       "      <td>[80]</td>\n",
       "      <td>87.0</td>\n",
       "      <td>2012-09-12 04:00:00</td>\n",
       "      <td>1</td>\n",
       "    </tr>\n",
       "    <tr>\n",
       "      <th>1</th>\n",
       "      <td>2</td>\n",
       "      <td>H: LATEST: HOW SYRIA IS AIDING QADDAFI AND MOR...</td>\n",
       "      <td>[80]</td>\n",
       "      <td>NaN</td>\n",
       "      <td>2011-03-03 05:00:00</td>\n",
       "      <td>0</td>\n",
       "    </tr>\n",
       "    <tr>\n",
       "      <th>2</th>\n",
       "      <td>3</td>\n",
       "      <td>CHRIS STEVENS</td>\n",
       "      <td>[80]</td>\n",
       "      <td>32.0</td>\n",
       "      <td>2012-09-12 04:00:00</td>\n",
       "      <td>0</td>\n",
       "    </tr>\n",
       "    <tr>\n",
       "      <th>3</th>\n",
       "      <td>4</td>\n",
       "      <td>CAIRO CONDEMNATION - FINAL</td>\n",
       "      <td>[80]</td>\n",
       "      <td>32.0</td>\n",
       "      <td>2012-09-12 04:00:00</td>\n",
       "      <td>0</td>\n",
       "    </tr>\n",
       "    <tr>\n",
       "      <th>4</th>\n",
       "      <td>5</td>\n",
       "      <td>H: LATEST: HOW SYRIA IS AIDING QADDAFI AND MOR...</td>\n",
       "      <td>[81]</td>\n",
       "      <td>80.0</td>\n",
       "      <td>2011-03-11 05:00:00</td>\n",
       "      <td>0</td>\n",
       "    </tr>\n",
       "  </tbody>\n",
       "</table>\n",
       "</div>"
      ],
      "text/plain": [
       "   Id                                            Subject    To  From  \\\n",
       "0   1                                                WOW  [80]  87.0   \n",
       "1   2  H: LATEST: HOW SYRIA IS AIDING QADDAFI AND MOR...  [80]   NaN   \n",
       "2   3                                      CHRIS STEVENS  [80]  32.0   \n",
       "3   4                         CAIRO CONDEMNATION - FINAL  [80]  32.0   \n",
       "4   5  H: LATEST: HOW SYRIA IS AIDING QADDAFI AND MOR...  [81]  80.0   \n",
       "\n",
       "                 Date  is_Full  \n",
       "0 2012-09-12 04:00:00        1  \n",
       "1 2011-03-03 05:00:00        0  \n",
       "2 2012-09-12 04:00:00        0  \n",
       "3 2012-09-12 04:00:00        0  \n",
       "4 2011-03-11 05:00:00        0  "
      ]
     },
     "execution_count": 25,
     "metadata": {},
     "output_type": "execute_result"
    }
   ],
   "source": [
    "emails[:5]"
   ]
  },
  {
   "cell_type": "markdown",
   "metadata": {},
   "source": [
    "We want to verify whether we can parse a list of receivers to a single receiver. We can do this only if the list always contains 0 or 1 receiver."
   ]
  },
  {
   "cell_type": "code",
   "execution_count": 26,
   "metadata": {},
   "outputs": [
    {
     "data": {
      "text/plain": [
       "[2, 2, 2, 2, 2, 2, 2, 2, 2]"
      ]
     },
     "execution_count": 26,
     "metadata": {},
     "output_type": "execute_result"
    }
   ],
   "source": [
    "# search for multi-receiver emails\n",
    "multiple_receivers = []\n",
    "for i in emails['To']:\n",
    "    if len(i)>1:\n",
    "        multiple_receivers.append(len(i))\n",
    "multiple_receivers"
   ]
  },
  {
   "cell_type": "markdown",
   "metadata": {},
   "source": [
    "So we cannot :("
   ]
  },
  {
   "cell_type": "code",
   "execution_count": 27,
   "metadata": {},
   "outputs": [],
   "source": [
    "# emails from somebody to Hillary\n",
    "emails_sb2H_index = []\n",
    "for index, email in emails.iterrows():\n",
    "    if 80 in email.To:\n",
    "        emails_sb2H_index.append(True)\n",
    "    else:\n",
    "        emails_sb2H_index.append(False)\n",
    "\n",
    "emails_sb2H = emails[emails_sb2H_index]"
   ]
  },
  {
   "cell_type": "code",
   "execution_count": 28,
   "metadata": {},
   "outputs": [],
   "source": [
    "# find all senders\n",
    "email_senders = emails_sb2H.From.dropna()"
   ]
  },
  {
   "cell_type": "code",
   "execution_count": 29,
   "metadata": {},
   "outputs": [],
   "source": [
    "# count for occurency\n",
    "dict_sender_count = dict(Counter(email_senders))"
   ]
  },
  {
   "cell_type": "code",
   "execution_count": 30,
   "metadata": {},
   "outputs": [],
   "source": [
    "# construct a dataframe for sender and occurence\n",
    "sender_Ids = [ k for k in dict_sender_count ]\n",
    "sender_occurences = [ v for v in dict_sender_count.values() ]\n",
    "sender_count = pd.DataFrame({'sender': sender_Ids, 'occurence': sender_occurences})\n",
    "\n",
    "# sort by occurence and take the most important senders\n",
    "sender_count = sender_count.sort_values('occurence', ascending=False)\n",
    "important_sender = sender_count[:15]"
   ]
  },
  {
   "cell_type": "code",
   "execution_count": 31,
   "metadata": {},
   "outputs": [
    {
     "data": {
      "text/html": [
       "<div>\n",
       "<style scoped>\n",
       "    .dataframe tbody tr th:only-of-type {\n",
       "        vertical-align: middle;\n",
       "    }\n",
       "\n",
       "    .dataframe tbody tr th {\n",
       "        vertical-align: top;\n",
       "    }\n",
       "\n",
       "    .dataframe thead th {\n",
       "        text-align: right;\n",
       "    }\n",
       "</style>\n",
       "<table border=\"1\" class=\"dataframe\">\n",
       "  <thead>\n",
       "    <tr style=\"text-align: right;\">\n",
       "      <th></th>\n",
       "      <th>name</th>\n",
       "      <th>occurence</th>\n",
       "    </tr>\n",
       "  </thead>\n",
       "  <tbody>\n",
       "    <tr>\n",
       "      <th>7</th>\n",
       "      <td>Huma Abedin</td>\n",
       "      <td>1370</td>\n",
       "    </tr>\n",
       "    <tr>\n",
       "      <th>1</th>\n",
       "      <td>Cheryl Mills</td>\n",
       "      <td>1244</td>\n",
       "    </tr>\n",
       "    <tr>\n",
       "      <th>0</th>\n",
       "      <td>Jake Sullivan</td>\n",
       "      <td>840</td>\n",
       "    </tr>\n",
       "    <tr>\n",
       "      <th>5</th>\n",
       "      <td>Sidney Blumenthal</td>\n",
       "      <td>362</td>\n",
       "    </tr>\n",
       "    <tr>\n",
       "      <th>20</th>\n",
       "      <td>Lauren Jiloty</td>\n",
       "      <td>333</td>\n",
       "    </tr>\n",
       "    <tr>\n",
       "      <th>14</th>\n",
       "      <td>Philippe Reines</td>\n",
       "      <td>149</td>\n",
       "    </tr>\n",
       "    <tr>\n",
       "      <th>15</th>\n",
       "      <td>Lona Valmoro</td>\n",
       "      <td>141</td>\n",
       "    </tr>\n",
       "    <tr>\n",
       "      <th>2</th>\n",
       "      <td>Anne-Marie Slaughter</td>\n",
       "      <td>130</td>\n",
       "    </tr>\n",
       "    <tr>\n",
       "      <th>35</th>\n",
       "      <td>Richard Verma</td>\n",
       "      <td>117</td>\n",
       "    </tr>\n",
       "    <tr>\n",
       "      <th>12</th>\n",
       "      <td>Melanne Verveer</td>\n",
       "      <td>95</td>\n",
       "    </tr>\n",
       "    <tr>\n",
       "      <th>29</th>\n",
       "      <td>Lissa Muscatine</td>\n",
       "      <td>81</td>\n",
       "    </tr>\n",
       "    <tr>\n",
       "      <th>19</th>\n",
       "      <td>Judith McHale</td>\n",
       "      <td>71</td>\n",
       "    </tr>\n",
       "    <tr>\n",
       "      <th>30</th>\n",
       "      <td>Strobe Talbott</td>\n",
       "      <td>35</td>\n",
       "    </tr>\n",
       "    <tr>\n",
       "      <th>76</th>\n",
       "      <td>Betsy Ebeling</td>\n",
       "      <td>30</td>\n",
       "    </tr>\n",
       "    <tr>\n",
       "      <th>10</th>\n",
       "      <td>Monica Hanley</td>\n",
       "      <td>26</td>\n",
       "    </tr>\n",
       "  </tbody>\n",
       "</table>\n",
       "</div>"
      ],
      "text/plain": [
       "                    name  occurence\n",
       "7            Huma Abedin       1370\n",
       "1           Cheryl Mills       1244\n",
       "0          Jake Sullivan        840\n",
       "5      Sidney Blumenthal        362\n",
       "20         Lauren Jiloty        333\n",
       "14       Philippe Reines        149\n",
       "15          Lona Valmoro        141\n",
       "2   Anne-Marie Slaughter        130\n",
       "35         Richard Verma        117\n",
       "12       Melanne Verveer         95\n",
       "29       Lissa Muscatine         81\n",
       "19         Judith McHale         71\n",
       "30        Strobe Talbott         35\n",
       "76         Betsy Ebeling         30\n",
       "10         Monica Hanley         26"
      ]
     },
     "execution_count": 31,
     "metadata": {},
     "output_type": "execute_result"
    }
   ],
   "source": [
    "# convert sender ids to names\n",
    "names = []\n",
    "for i in important_sender.sender:\n",
    "    names.append(dict_persons[i])\n",
    "\n",
    "important_sender['name'] = names\n",
    "important_sender = important_sender[['name', 'occurence']] # only keep information we need\n",
    "important_sender"
   ]
  },
  {
   "cell_type": "code",
   "execution_count": 32,
   "metadata": {
    "scrolled": true
   },
   "outputs": [
    {
     "data": {
      "image/png": "[encoded data removed]",
      "text/plain": [
       "<matplotlib.figure.Figure at 0x186478f6780>"
      ]
     },
     "metadata": {},
     "output_type": "display_data"
    }
   ],
   "source": [
    "# plot a barplot of the most frequent senders \n",
    "sns.set(style=\"whitegrid\", rc={'figure.figsize':(10, 7)})\n",
    "ax = sns.barplot(data = important_sender, y=\"name\", x=\"occurence\", palette=\"Blues_d\")\n",
    "ax.set_title('15 Most frequent senders', size=18)\n",
    "ax.set_yticklabels(important_sender.name, size = 14)\n",
    "ax.set_xlabel('Occurence', size = 18)\n",
    "ax.set_ylabel('Sender', size = 18);"
   ]
  },
  {
   "cell_type": "markdown",
   "metadata": {},
   "source": [
    "There are some people who are much closer to Hillary, again, we will analyze them later.  \n",
    "  \n",
    "An interesting observation: Huma Abedin, the person that receives the most emails FROM Hillary, is only the 8-th sender of emails TO Hillary. We guess that if she is Hillary's collegue, then she must excute more Hillary's order than make reports."
   ]
  },
  {
   "cell_type": "markdown",
   "metadata": {},
   "source": [
    "### 3. Comparison of both graphs"
   ]
  },
  {
   "cell_type": "markdown",
   "metadata": {},
   "source": [
    "Further we can analyze :\n",
    " - The anonymous senders: the relation between the anonymity and the `is_Full` value, the propotion of anonymous emails\n",
    " - The difference between emails receive from Hillary and sent to Hillary for important persons, and their relation with Hillary or their political position\n",
    " - The propostion of emails Hillary send and receive"
   ]
  },
  {
   "cell_type": "markdown",
   "metadata": {},
   "source": [
    "---"
   ]
  },
  {
   "cell_type": "markdown",
   "metadata": {},
   "source": [
    "## Construct a countries occurence list"
   ]
  },
  {
   "cell_type": "markdown",
   "metadata": {},
   "source": [
    "In order to construct a countries occurence list, we need a dataset of all country names. Here we use a dataset from [Statgraphics](http://www.statgraphics.com/)."
   ]
  },
  {
   "cell_type": "code",
   "execution_count": 33,
   "metadata": {},
   "outputs": [],
   "source": [
    "additona_data_folder = './additional-data/'\n",
    "\n",
    "# load the country dataset\n",
    "country_dataset_raw = pd.read_excel(additona_data_folder + 'countries of the world.xls')"
   ]
  },
  {
   "cell_type": "code",
   "execution_count": 34,
   "metadata": {},
   "outputs": [],
   "source": [
    "# data wrangling on the country dataset\n",
    "country_dataset = country_dataset_raw['Data is public domain from US government.'].drop([0,1,2,3], axis = 0)\n",
    "\n",
    "# remove space at the and of each country\n",
    "country_dataset = country_dataset.apply(lambda x : x[:-1])"
   ]
  },
  {
   "cell_type": "code",
   "execution_count": 35,
   "metadata": {},
   "outputs": [],
   "source": [
    "# raw text values\n",
    "rawtext_list = rawtext['RawText']"
   ]
  },
  {
   "cell_type": "markdown",
   "metadata": {},
   "source": [
    "People usually call some countries by their abbreviations. For example, we often say \"UK\" instead of \"United Kingdom\". For this reason, we also add abbreviations for some countries."
   ]
  },
  {
   "cell_type": "code",
   "execution_count": 36,
   "metadata": {},
   "outputs": [],
   "source": [
    "# add other wildly-used names for some of the countries\n",
    "add_countries = pd.Series(['North Korea', 'DPRK', 'South Korea', 'RDK', 'Korea','UK'])\n",
    "country_dataset = country_dataset.append(add_countries)"
   ]
  },
  {
   "cell_type": "code",
   "execution_count": 37,
   "metadata": {},
   "outputs": [],
   "source": [
    "# lower the letters in rawtext and country name\n",
    "rawtext_lower = rawtext_list.str.lower()   \n",
    "country_dataset_lower = country_dataset.str.lower()\n",
    "country_occurences = []\n",
    "\n",
    "# calculate the occurence\n",
    "for i in range(country_dataset.shape[0]):\n",
    "    country_lower = country_dataset_lower.iloc[i]\n",
    "    country = country_dataset.iloc[i]\n",
    "    occurence_result = rawtext_lower.str.contains(country_lower).replace([False, True], [0, 1])\n",
    "    occ_sum = occurence_result.sum()\n",
    "    country_occurences.append((country, occ_sum))\n",
    "    \n",
    "    if occ_sum > 0:\n",
    "        rawtext[country] = pd.DataFrame(occurence_result)"
   ]
  },
  {
   "cell_type": "code",
   "execution_count": 38,
   "metadata": {},
   "outputs": [],
   "source": [
    "# match the EmailId and the occurence number\n",
    "id_occurence = rawtext.drop(['RawText'], axis = 1)"
   ]
  },
  {
   "cell_type": "markdown",
   "metadata": {},
   "source": [
    "Here we merge the occurence of abbreviations with the the original name. When we say \"Korea\", we usually mean \"South Korea\". So we compute the occurence of South Korea by substracting the occurence of Korea by the occurence of North Korea."
   ]
  },
  {
   "cell_type": "code",
   "execution_count": 39,
   "metadata": {},
   "outputs": [],
   "source": [
    "id_occurence['United Kingdom'] = (id_occurence['United Kingdom'] + id_occurence['UK']).replace(2,1)\n",
    "id_occurence['South Korea'] = id_occurence['Korea'] - id_occurence['North Korea']\n",
    "id_occurence['North Korea'] = (id_occurence['North Korea'] + id_occurence['DPRK']).replace(2,1)\n",
    "\n",
    "id_occurence = id_occurence.drop(['UK', 'DPRK', 'Korea'], axis=1)"
   ]
  },
  {
   "cell_type": "code",
   "execution_count": 41,
   "metadata": {},
   "outputs": [
    {
     "data": {
      "text/plain": [
       "United States    736\n",
       "Iran             453\n",
       "Israel           447\n",
       "Afghanistan      410\n",
       "Haiti            403\n",
       "dtype: int64"
      ]
     },
     "execution_count": 41,
     "metadata": {},
     "output_type": "execute_result"
    }
   ],
   "source": [
    "# prepare data for plot\n",
    "occurences_plt = id_occurence.drop(['Id'], axis=1).sum(axis = 0)\n",
    "occurences_plt = occurences_plt.sort_values(ascending=False)\n",
    "occurences_plt[:5] "
   ]
  },
  {
   "cell_type": "markdown",
   "metadata": {},
   "source": [
    "We want to figure out strategy focus of the US, so we won't show the occurence of US in the plot. It is not surprising that it is the most frequently mentioned country in Hillary's emails."
   ]
  },
  {
   "cell_type": "code",
   "execution_count": 42,
   "metadata": {},
   "outputs": [
    {
     "data": {
      "image/png": "[encoded data removed]",
      "text/plain": [
       "<matplotlib.figure.Figure at 0x186485cafd0>"
      ]
     },
     "metadata": {},
     "output_type": "display_data"
    }
   ],
   "source": [
    "# plot the country occurence\n",
    "sns.set(style=\"whitegrid\", rc={'figure.figsize':(10, 7)})\n",
    "\n",
    "occurences_plt = occurences_plt[1:21]\n",
    "ax = sns.barplot(x = occurences_plt.values, y=occurences_plt.index, palette=\"Blues_d\")\n",
    "ax.set_title('Top 20 most frequently discussed countries', size=16)\n",
    "ax.set_yticklabels(occurences_plt.index, size = 14)\n",
    "ax.set_xlabel('Occurence', size = 16)\n",
    "ax.set_ylabel('Country', size = 16);"
   ]
  },
  {
   "cell_type": "code",
   "execution_count": null,
   "metadata": {},
   "outputs": [],
   "source": []
  },
  {
   "cell_type": "code",
   "execution_count": 43,
   "metadata": {},
   "outputs": [],
   "source": [
    "id_occurence.to_csv('id_occurence.csv')"
   ]
  },
  {
   "cell_type": "code",
   "execution_count": null,
   "metadata": {},
   "outputs": [],
   "source": []
  }
 ],
 "metadata": {
  "kernelspec": {
   "display_name": "Python 3",
   "language": "python",
   "name": "python3"
  },
  "language_info": {
   "codemirror_mode": {
    "name": "ipython",
    "version": 3
   },
   "file_extension": ".py",
   "mimetype": "text/x-python",
   "name": "python",
   "nbconvert_exporter": "python",
   "pygments_lexer": "ipython3",
   "version": "3.6.4"
  }
 },
 "nbformat": 4,
 "nbformat_minor": 2
}
